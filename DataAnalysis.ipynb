{
 "cells": [
  {
   "cell_type": "code",
   "execution_count": 1,
   "metadata": {},
   "outputs": [],
   "source": [
    "import matplotlib.pyplot as plt\n",
    "import seaborn as sns\n",
    "import numpy as np\n",
    "import pandas as pd"
   ]
  },
  {
   "cell_type": "code",
   "execution_count": 2,
   "metadata": {},
   "outputs": [],
   "source": [
    "data = pd.read_csv('./car_data.csv')"
   ]
  },
  {
   "cell_type": "code",
   "execution_count": 3,
   "metadata": {},
   "outputs": [
    {
     "data": {
      "text/html": [
       "<div>\n",
       "<style scoped>\n",
       "    .dataframe tbody tr th:only-of-type {\n",
       "        vertical-align: middle;\n",
       "    }\n",
       "\n",
       "    .dataframe tbody tr th {\n",
       "        vertical-align: top;\n",
       "    }\n",
       "\n",
       "    .dataframe thead th {\n",
       "        text-align: right;\n",
       "    }\n",
       "</style>\n",
       "<table border=\"1\" class=\"dataframe\">\n",
       "  <thead>\n",
       "    <tr style=\"text-align: right;\">\n",
       "      <th></th>\n",
       "      <th>User ID</th>\n",
       "      <th>Gender</th>\n",
       "      <th>Age</th>\n",
       "      <th>AnnualSalary</th>\n",
       "      <th>Purchased</th>\n",
       "    </tr>\n",
       "  </thead>\n",
       "  <tbody>\n",
       "    <tr>\n",
       "      <th>0</th>\n",
       "      <td>385</td>\n",
       "      <td>Male</td>\n",
       "      <td>35</td>\n",
       "      <td>20000</td>\n",
       "      <td>0</td>\n",
       "    </tr>\n",
       "    <tr>\n",
       "      <th>1</th>\n",
       "      <td>681</td>\n",
       "      <td>Male</td>\n",
       "      <td>40</td>\n",
       "      <td>43500</td>\n",
       "      <td>0</td>\n",
       "    </tr>\n",
       "    <tr>\n",
       "      <th>2</th>\n",
       "      <td>353</td>\n",
       "      <td>Male</td>\n",
       "      <td>49</td>\n",
       "      <td>74000</td>\n",
       "      <td>0</td>\n",
       "    </tr>\n",
       "    <tr>\n",
       "      <th>3</th>\n",
       "      <td>895</td>\n",
       "      <td>Male</td>\n",
       "      <td>40</td>\n",
       "      <td>107500</td>\n",
       "      <td>1</td>\n",
       "    </tr>\n",
       "    <tr>\n",
       "      <th>4</th>\n",
       "      <td>661</td>\n",
       "      <td>Male</td>\n",
       "      <td>25</td>\n",
       "      <td>79000</td>\n",
       "      <td>0</td>\n",
       "    </tr>\n",
       "  </tbody>\n",
       "</table>\n",
       "</div>"
      ],
      "text/plain": [
       "   User ID Gender  Age  AnnualSalary  Purchased\n",
       "0      385   Male   35         20000          0\n",
       "1      681   Male   40         43500          0\n",
       "2      353   Male   49         74000          0\n",
       "3      895   Male   40        107500          1\n",
       "4      661   Male   25         79000          0"
      ]
     },
     "execution_count": 3,
     "metadata": {},
     "output_type": "execute_result"
    }
   ],
   "source": [
    "data.head()"
   ]
  },
  {
   "cell_type": "code",
   "execution_count": 4,
   "metadata": {},
   "outputs": [
    {
     "name": "stdout",
     "output_type": "stream",
     "text": [
      "(1000, 5)\n"
     ]
    }
   ],
   "source": [
    "print(data.shape)"
   ]
  },
  {
   "cell_type": "code",
   "execution_count": 5,
   "metadata": {},
   "outputs": [
    {
     "name": "stdout",
     "output_type": "stream",
     "text": [
      "<class 'pandas.core.frame.DataFrame'>\n",
      "RangeIndex: 1000 entries, 0 to 999\n",
      "Data columns (total 5 columns):\n",
      " #   Column        Non-Null Count  Dtype \n",
      "---  ------        --------------  ----- \n",
      " 0   User ID       1000 non-null   int64 \n",
      " 1   Gender        1000 non-null   object\n",
      " 2   Age           1000 non-null   int64 \n",
      " 3   AnnualSalary  1000 non-null   int64 \n",
      " 4   Purchased     1000 non-null   int64 \n",
      "dtypes: int64(4), object(1)\n",
      "memory usage: 39.2+ KB\n"
     ]
    }
   ],
   "source": [
    "data.info()"
   ]
  },
  {
   "cell_type": "markdown",
   "metadata": {},
   "source": [
    "* 라벨 인코딩을 사용하여 Gender의 값을 숫자로 변경시킨다"
   ]
  },
  {
   "cell_type": "code",
   "execution_count": 6,
   "metadata": {},
   "outputs": [],
   "source": [
    "dict = { 'Male':0, 'Female':1}"
   ]
  },
  {
   "cell_type": "code",
   "execution_count": 7,
   "metadata": {},
   "outputs": [],
   "source": [
    "data['Gender_en'] = data['Gender'].map(dict).astype('int32')"
   ]
  },
  {
   "cell_type": "code",
   "execution_count": 8,
   "metadata": {},
   "outputs": [
    {
     "name": "stdout",
     "output_type": "stream",
     "text": [
      "<class 'pandas.core.frame.DataFrame'>\n",
      "RangeIndex: 1000 entries, 0 to 999\n",
      "Data columns (total 6 columns):\n",
      " #   Column        Non-Null Count  Dtype \n",
      "---  ------        --------------  ----- \n",
      " 0   User ID       1000 non-null   int64 \n",
      " 1   Gender        1000 non-null   object\n",
      " 2   Age           1000 non-null   int64 \n",
      " 3   AnnualSalary  1000 non-null   int64 \n",
      " 4   Purchased     1000 non-null   int64 \n",
      " 5   Gender_en     1000 non-null   int32 \n",
      "dtypes: int32(1), int64(4), object(1)\n",
      "memory usage: 43.1+ KB\n"
     ]
    }
   ],
   "source": [
    "data.info()"
   ]
  },
  {
   "cell_type": "code",
   "execution_count": 9,
   "metadata": {},
   "outputs": [
    {
     "data": {
      "text/plain": [
       "(array([484.,   0.,   0.,   0.,   0.,   0.,   0.,   0.,   0., 516.]),\n",
       " array([0. , 0.1, 0.2, 0.3, 0.4, 0.5, 0.6, 0.7, 0.8, 0.9, 1. ]),\n",
       " <BarContainer object of 10 artists>)"
      ]
     },
     "execution_count": 9,
     "metadata": {},
     "output_type": "execute_result"
    },
    {
     "data": {
      "image/png": "[encoded data removed]",
      "text/plain": [
       "<Figure size 720x432 with 1 Axes>"
      ]
     },
     "metadata": {
      "needs_background": "light"
     },
     "output_type": "display_data"
    }
   ],
   "source": [
    "# 성별 분포 남성:0, 여성:1\n",
    "plt.figure(figsize=(10,6))\n",
    "plt.title(\"Gender distribution\", fontsize=20, y=1.01)  \n",
    "plt.xlabel(\"Gender\", fontsize=15)            \n",
    "plt.ylabel(\"count\", fontsize=15)            \n",
    "plt.hist(data['Gender_en'])"
   ]
  },
  {
   "cell_type": "code",
   "execution_count": 10,
   "metadata": {},
   "outputs": [
    {
     "data": {
      "text/plain": [
       "(array([ 51.,  63., 119.,  91., 207., 133., 138.,  75.,  62.,  61.]),\n",
       " array([18. , 22.5, 27. , 31.5, 36. , 40.5, 45. , 49.5, 54. , 58.5, 63. ]),\n",
       " <BarContainer object of 10 artists>)"
      ]
     },
     "execution_count": 10,
     "metadata": {},
     "output_type": "execute_result"
    },
    {
     "data": {
      "image/png": "[encoded data removed]",
      "text/plain": [
       "<Figure size 720x432 with 1 Axes>"
      ]
     },
     "metadata": {
      "needs_background": "light"
     },
     "output_type": "display_data"
    }
   ],
   "source": [
    "plt.figure(figsize=(10,6))\n",
    "plt.title(\"Age distribution\", fontsize=20, y=1.01)  \n",
    "plt.xlabel(\"Age\", fontsize=15)            \n",
    "plt.ylabel(\"count\", fontsize=15)            \n",
    "plt.hist(data['Age'])"
   ]
  },
  {
   "cell_type": "code",
   "execution_count": 11,
   "metadata": {},
   "outputs": [
    {
     "data": {
      "text/plain": [
       "(array([598.,   0.,   0.,   0.,   0.,   0.,   0.,   0.,   0., 402.]),\n",
       " array([0. , 0.1, 0.2, 0.3, 0.4, 0.5, 0.6, 0.7, 0.8, 0.9, 1. ]),\n",
       " <BarContainer object of 10 artists>)"
      ]
     },
     "execution_count": 11,
     "metadata": {},
     "output_type": "execute_result"
    },
    {
     "data": {
      "image/png": "[encoded data removed]",
      "text/plain": [
       "<Figure size 720x432 with 1 Axes>"
      ]
     },
     "metadata": {
      "needs_background": "light"
     },
     "output_type": "display_data"
    }
   ],
   "source": [
    "# no:0, yes:1\n",
    "plt.figure(figsize=(10,6))\n",
    "plt.title(\"Purchased distribution\", fontsize=20, y=1.01)  \n",
    "plt.xlabel(\"Purchased\", fontsize=15)            \n",
    "plt.ylabel(\"count\", fontsize=15)            \n",
    "plt.hist(data['Purchased'])"
   ]
  },
  {
   "cell_type": "code",
   "execution_count": 12,
   "metadata": {},
   "outputs": [
    {
     "data": {
      "text/plain": [
       "User ID         0.015911\n",
       "Age             0.616036\n",
       "AnnualSalary    0.364974\n",
       "Purchased       1.000000\n",
       "Gender_en       0.047211\n",
       "Name: Purchased, dtype: float64"
      ]
     },
     "execution_count": 12,
     "metadata": {},
     "output_type": "execute_result"
    }
   ],
   "source": [
    "data.corr()['Purchased']"
   ]
  },
  {
   "cell_type": "code",
   "execution_count": 13,
   "metadata": {},
   "outputs": [],
   "source": [
    "from sklearn.linear_model import LinearRegression\n",
    "from sklearn.neighbors import KNeighborsClassifier\n",
    "from sklearn.tree import DecisionTreeClassifier\n",
    "from sklearn.svm import SVC\n",
    "from sklearn.ensemble import RandomForestClassifier\n",
    "from sklearn.linear_model import LogisticRegression\n",
    "from sklearn.model_selection import GridSearchCV\n",
    "from sklearn.model_selection import cross_val_score\n",
    "from sklearn.metrics import f1_score"
   ]
  },
  {
   "cell_type": "code",
   "execution_count": 14,
   "metadata": {},
   "outputs": [],
   "source": [
    "from sklearn.model_selection import train_test_split"
   ]
  },
  {
   "cell_type": "code",
   "execution_count": 15,
   "metadata": {},
   "outputs": [],
   "source": [
    "md_lr = LinearRegression()\n",
    "md_kn = KNeighborsClassifier()\n",
    "md_dt = DecisionTreeClassifier()\n",
    "md_svc = SVC()\n",
    "md_rf =RandomForestClassifier(random_state=1)\n",
    "md_logr =LogisticRegression()"
   ]
  },
  {
   "cell_type": "markdown",
   "metadata": {},
   "source": [
    "### Purchased 상관관계\n",
    "* User ID         0.015911\n",
    "* Age             0.616036\n",
    "* AnnualSalary    0.364974\n",
    "* Purchased       1.000000\n",
    "* Gender_en       0.047211\n",
    "\n",
    "Age, AnnualSalary가 유의미한 상관관계가 있음\n",
    " * Age, AnnualSalary를 이용한 모델"
   ]
  },
  {
   "cell_type": "code",
   "execution_count": 16,
   "metadata": {},
   "outputs": [],
   "source": [
    "sel = ['Age','AnnualSalary']\n",
    "X = data[sel]\n",
    "y = data['Purchased']"
   ]
  },
  {
   "cell_type": "code",
   "execution_count": 17,
   "metadata": {},
   "outputs": [],
   "source": [
    "X_train, X_test, y_train, y_test = train_test_split(X,y,\n",
    "                                                    stratify=y,\n",
    "                                                   random_state=0)"
   ]
  },
  {
   "cell_type": "code",
   "execution_count": 18,
   "metadata": {},
   "outputs": [
    {
     "name": "stdout",
     "output_type": "stream",
     "text": [
      "학습용 모델 평가점수 : 0.45988645791711547\n",
      "테스트용 모델 평가점수 : 0.42091203015165757\n",
      "교차검증 모델 평가점수: [0.42401048 0.46708151 0.52539134 0.41091534 0.41317926]\n",
      "교차검증 모델 평가점수(학습용): [0.40262012 0.40594668 0.45810987 0.51094574 0.45568842]\n",
      "교차검증 모델 평가점수(평가용): [0.44450366 0.47135165 0.37709033 0.3630048  0.35246138]\n"
     ]
    }
   ],
   "source": [
    "md_lr.fit(X_train,y_train)\n",
    "print('학습용 모델 평가점수 :', md_lr.score(X_train, y_train))\n",
    "print('테스트용 모델 평가점수 :',md_lr.score(X_test, y_test))\n",
    "print('교차검증 모델 평가점수:',cross_val_score(md_lr, X, y, cv=5))\n",
    "print('교차검증 모델 평가점수(학습용):',cross_val_score(md_lr, X_train, y_train, cv=5))\n",
    "print('교차검증 모델 평가점수(평가용):',cross_val_score(md_lr, X_test, y_test, cv=5))"
   ]
  },
  {
   "cell_type": "code",
   "execution_count": 19,
   "metadata": {},
   "outputs": [
    {
     "name": "stdout",
     "output_type": "stream",
     "text": [
      "학습용 모델 평가점수 : 0.8653333333333333\n",
      "테스트용 모델 평가점수 : 0.8\n",
      "교차검증 모델 평가점수: [0.78  0.8   0.825 0.82  0.81 ]\n",
      "교차검증 모델 평가점수(학습용): [0.79333333 0.76       0.84666667 0.80666667 0.84      ]\n",
      "교차검증 모델 평가점수(평가용): [0.78 0.76 0.82 0.78 0.86]\n",
      "F1 score : 0.7368421052631577\n"
     ]
    }
   ],
   "source": [
    "md_kn.fit(X_train,y_train)\n",
    "print('학습용 모델 평가점수 :', md_kn.score(X_train, y_train))\n",
    "print('테스트용 모델 평가점수 :',md_kn.score(X_test, y_test))\n",
    "print('교차검증 모델 평가점수:',cross_val_score(md_kn, X, y, cv=5))\n",
    "print('교차검증 모델 평가점수(학습용):',cross_val_score(md_kn, X_train, y_train, cv=5))\n",
    "print('교차검증 모델 평가점수(평가용):',cross_val_score(md_kn, X_test, y_test, cv=5))\n",
    "pred = md_kn.predict(X_test)\n",
    "print('F1 score :', f1_score(y_test, pred))"
   ]
  },
  {
   "cell_type": "code",
   "execution_count": 20,
   "metadata": {},
   "outputs": [
    {
     "name": "stdout",
     "output_type": "stream",
     "text": [
      "학습용 모델 평가점수 : 0.9946666666666667\n",
      "테스트용 모델 평가점수 : 0.864\n",
      "교차검증 모델 평가점수: [0.845 0.855 0.89  0.86  0.845]\n",
      "교차검증 모델 평가점수(학습용): [0.88666667 0.82666667 0.85333333 0.86666667 0.88666667]\n",
      "교차검증 모델 평가점수(평가용): [0.88 0.92 0.82 0.88 0.88]\n",
      "F1 score : 0.83\n"
     ]
    }
   ],
   "source": [
    "md_dt.fit(X_train,y_train)\n",
    "print('학습용 모델 평가점수 :', md_dt.score(X_train, y_train))\n",
    "print('테스트용 모델 평가점수 :',md_dt.score(X_test, y_test))\n",
    "print('교차검증 모델 평가점수:',cross_val_score(md_dt, X, y, cv=5))\n",
    "print('교차검증 모델 평가점수(학습용):',cross_val_score(md_dt, X_train, y_train, cv=5))\n",
    "print('교차검증 모델 평가점수(평가용):',cross_val_score(md_dt, X_test, y_test, cv=5))\n",
    "pred = md_dt.predict(X_test)\n",
    "print('F1 score :', f1_score(y_test, pred))"
   ]
  },
  {
   "cell_type": "code",
   "execution_count": 21,
   "metadata": {},
   "outputs": [
    {
     "name": "stdout",
     "output_type": "stream",
     "text": [
      "학습용 모델 평가점수 : 0.756\n",
      "테스트용 모델 평가점수 : 0.764\n",
      "교차검증 모델 평가점수: [0.755 0.75  0.76  0.75  0.785]\n",
      "교차검증 모델 평가점수(학습용): [0.73333333 0.69333333 0.82       0.72666667 0.78      ]\n",
      "교차검증 모델 평가점수(평가용): [0.72 0.82 0.84 0.72 0.74]\n",
      "F1 score : 0.6040268456375839\n"
     ]
    }
   ],
   "source": [
    "md_svc.fit(X_train,y_train)\n",
    "print('학습용 모델 평가점수 :', md_svc.score(X_train, y_train))\n",
    "print('테스트용 모델 평가점수 :',md_svc.score(X_test, y_test))\n",
    "print('교차검증 모델 평가점수:',cross_val_score(md_svc, X, y, cv=5))\n",
    "print('교차검증 모델 평가점수(학습용):',cross_val_score(md_svc, X_train, y_train, cv=5))\n",
    "print('교차검증 모델 평가점수(평가용):',cross_val_score(md_svc, X_test, y_test, cv=5))\n",
    "pred = md_svc.predict(X_test)\n",
    "print('F1 score :', f1_score(y_test, pred))"
   ]
  },
  {
   "cell_type": "code",
   "execution_count": 22,
   "metadata": {},
   "outputs": [
    {
     "name": "stdout",
     "output_type": "stream",
     "text": [
      "학습용 모델 평가점수 : 0.9946666666666667\n",
      "테스트용 모델 평가점수 : 0.868\n",
      "교차검증 모델 평가점수: [0.855 0.885 0.91  0.87  0.905]\n",
      "교차검증 모델 평가점수(학습용): [0.86666667 0.86       0.89333333 0.87333333 0.92      ]\n",
      "교차검증 모델 평가점수(평가용): [0.86 0.92 0.84 0.94 0.9 ]\n",
      "F1 score : 0.8390243902439023\n"
     ]
    }
   ],
   "source": [
    "md_rf.fit(X_train,y_train)\n",
    "print('학습용 모델 평가점수 :', md_rf.score(X_train, y_train))\n",
    "print('테스트용 모델 평가점수 :',md_rf.score(X_test, y_test))\n",
    "print('교차검증 모델 평가점수:',cross_val_score(md_rf, X, y, cv=5))\n",
    "print('교차검증 모델 평가점수(학습용):',cross_val_score(md_rf, X_train, y_train, cv=5))\n",
    "print('교차검증 모델 평가점수(평가용):',cross_val_score(md_rf, X_test, y_test, cv=5))\n",
    "pred = md_rf.predict(X_test)\n",
    "print('F1 score :', f1_score(y_test, pred))"
   ]
  },
  {
   "cell_type": "code",
   "execution_count": 23,
   "metadata": {},
   "outputs": [
    {
     "name": "stdout",
     "output_type": "stream",
     "text": [
      "학습용 모델 평가점수 : 0.6066666666666667\n",
      "테스트용 모델 평가점수 : 0.596\n",
      "교차검증 모델 평가점수: [0.6   0.55  0.6   0.565 0.595]\n",
      "교차검증 모델 평가점수(학습용): [0.6        0.4        0.55333333 0.59333333 0.59333333]\n",
      "교차검증 모델 평가점수(평가용): [0.78 0.6  0.6  0.5  0.6 ]\n",
      "F1 score : 0.2170542635658915\n"
     ]
    }
   ],
   "source": [
    "md_logr.fit(X_train,y_train)\n",
    "print('학습용 모델 평가점수 :', md_logr.score(X_train, y_train))\n",
    "print('테스트용 모델 평가점수 :',md_logr.score(X_test, y_test))\n",
    "print('교차검증 모델 평가점수:',cross_val_score(md_logr, X, y, cv=5))\n",
    "print('교차검증 모델 평가점수(학습용):',cross_val_score(md_logr, X_train, y_train, cv=5))\n",
    "print('교차검증 모델 평가점수(평가용):',cross_val_score(md_logr, X_test, y_test, cv=5))\n",
    "pred = md_logr.predict(X_test)\n",
    "print('F1 score :', f1_score(y_test, pred))"
   ]
  },
  {
   "cell_type": "markdown",
   "metadata": {},
   "source": [
    "### Age, AnnualSalary를 이용한 모델\n",
    "- RandomForestClassifier가 결과가 높게 나온다."
   ]
  },
  {
   "cell_type": "code",
   "execution_count": 24,
   "metadata": {},
   "outputs": [],
   "source": [
    "sel = ['Age','AnnualSalary','Gender_en']\n",
    "X = data[sel]\n",
    "y = data['Purchased']"
   ]
  },
  {
   "cell_type": "code",
   "execution_count": 25,
   "metadata": {},
   "outputs": [],
   "source": [
    "X_train, X_test, y_train, y_test = train_test_split(X,y,\n",
    "                                                    stratify=y,\n",
    "                                                   random_state=0)"
   ]
  },
  {
   "cell_type": "code",
   "execution_count": 26,
   "metadata": {},
   "outputs": [
    {
     "name": "stdout",
     "output_type": "stream",
     "text": [
      "학습용 모델 평가점수 : 0.4608366540382606\n",
      "테스트용 모델 평가점수 : 0.4188255450102226\n",
      "교차검증 모델 평가점수: [0.42493214 0.46623236 0.52629391 0.41175926 0.4064445 ]\n",
      "교차검증 모델 평가점수(학습용): [0.40533571 0.39248724 0.4607005  0.51293965 0.45480667]\n",
      "교차검증 모델 평가점수(평가용): [0.44430556 0.47102236 0.36746423 0.36170557 0.34791661]\n"
     ]
    }
   ],
   "source": [
    "md_lr.fit(X_train,y_train)\n",
    "print('학습용 모델 평가점수 :', md_lr.score(X_train, y_train))\n",
    "print('테스트용 모델 평가점수 :',md_lr.score(X_test, y_test))\n",
    "print('교차검증 모델 평가점수:',cross_val_score(md_lr, X, y, cv=5))\n",
    "print('교차검증 모델 평가점수(학습용):',cross_val_score(md_lr, X_train, y_train, cv=5))\n",
    "print('교차검증 모델 평가점수(평가용):',cross_val_score(md_lr, X_test, y_test, cv=5))\n",
    "# 'Age','AnnualSalary'를 이용한 전의 학습 모델과 비교할 때\n",
    "# 학습용 높음, 테스트용 낮음, 교차검증 높음, 학습용 높음, 평가용 낮음"
   ]
  },
  {
   "cell_type": "code",
   "execution_count": 27,
   "metadata": {},
   "outputs": [
    {
     "name": "stdout",
     "output_type": "stream",
     "text": [
      "학습용 모델 평가점수 : 0.8653333333333333\n",
      "테스트용 모델 평가점수 : 0.8\n",
      "교차검증 모델 평가점수: [0.785 0.795 0.83  0.82  0.81 ]\n",
      "교차검증 모델 평가점수(학습용): [0.79333333 0.76       0.84       0.8        0.84      ]\n",
      "교차검증 모델 평가점수(평가용): [0.78 0.76 0.82 0.78 0.86]\n",
      "F1 score : 0.7368421052631577\n"
     ]
    }
   ],
   "source": [
    "md_kn.fit(X_train,y_train)\n",
    "print('학습용 모델 평가점수 :', md_kn.score(X_train, y_train))\n",
    "print('테스트용 모델 평가점수 :',md_kn.score(X_test, y_test))\n",
    "print('교차검증 모델 평가점수:',cross_val_score(md_kn, X, y, cv=5))\n",
    "print('교차검증 모델 평가점수(학습용):',cross_val_score(md_kn, X_train, y_train, cv=5))\n",
    "print('교차검증 모델 평가점수(평가용):',cross_val_score(md_kn, X_test, y_test, cv=5))\n",
    "pred = md_kn.predict(X_test)\n",
    "print('F1 score :', f1_score(y_test, pred))"
   ]
  },
  {
   "cell_type": "code",
   "execution_count": 28,
   "metadata": {},
   "outputs": [
    {
     "name": "stdout",
     "output_type": "stream",
     "text": [
      "학습용 모델 평가점수 : 0.996\n",
      "테스트용 모델 평가점수 : 0.888\n",
      "교차검증 모델 평가점수: [0.865 0.875 0.9   0.875 0.87 ]\n",
      "교차검증 모델 평가점수(학습용): [0.9        0.84666667 0.88666667 0.88       0.88      ]\n",
      "교차검증 모델 평가점수(평가용): [0.9  0.9  0.82 0.88 0.86]\n",
      "F1 score : 0.8571428571428572\n"
     ]
    }
   ],
   "source": [
    "md_dt.fit(X_train,y_train)\n",
    "print('학습용 모델 평가점수 :', md_dt.score(X_train, y_train))\n",
    "print('테스트용 모델 평가점수 :',md_dt.score(X_test, y_test))\n",
    "print('교차검증 모델 평가점수:',cross_val_score(md_dt, X, y, cv=5))\n",
    "print('교차검증 모델 평가점수(학습용):',cross_val_score(md_dt, X_train, y_train, cv=5))\n",
    "print('교차검증 모델 평가점수(평가용):',cross_val_score(md_dt, X_test, y_test, cv=5))\n",
    "pred = md_dt.predict(X_test)\n",
    "print('F1 score :', f1_score(y_test, pred))"
   ]
  },
  {
   "cell_type": "code",
   "execution_count": 29,
   "metadata": {},
   "outputs": [
    {
     "name": "stdout",
     "output_type": "stream",
     "text": [
      "학습용 모델 평가점수 : 0.752\n",
      "테스트용 모델 평가점수 : 0.756\n",
      "교차검증 모델 평가점수: [0.76  0.745 0.75  0.745 0.78 ]\n",
      "교차검증 모델 평가점수(학습용): [0.72666667 0.7        0.81333333 0.72       0.77333333]\n",
      "교차검증 모델 평가점수(평가용): [0.72 0.8  0.82 0.68 0.74]\n",
      "F1 score : 0.5850340136054422\n"
     ]
    }
   ],
   "source": [
    "md_svc.fit(X_train,y_train)\n",
    "print('학습용 모델 평가점수 :', md_svc.score(X_train, y_train))\n",
    "print('테스트용 모델 평가점수 :',md_svc.score(X_test, y_test))\n",
    "print('교차검증 모델 평가점수:',cross_val_score(md_svc, X, y, cv=5))\n",
    "print('교차검증 모델 평가점수(학습용):',cross_val_score(md_svc, X_train, y_train, cv=5))\n",
    "print('교차검증 모델 평가점수(평가용):',cross_val_score(md_svc, X_test, y_test, cv=5))\n",
    "pred = md_svc.predict(X_test)\n",
    "print('F1 score :', f1_score(y_test, pred))"
   ]
  },
  {
   "cell_type": "code",
   "execution_count": 30,
   "metadata": {},
   "outputs": [
    {
     "name": "stdout",
     "output_type": "stream",
     "text": [
      "학습용 모델 평가점수 : 0.996\n",
      "테스트용 모델 평가점수 : 0.904\n",
      "교차검증 모델 평가점수: [0.88  0.89  0.925 0.88  0.905]\n",
      "교차검증 모델 평가점수(학습용): [0.88       0.86       0.90666667 0.88       0.89333333]\n",
      "교차검증 모델 평가점수(평가용): [0.84 0.92 0.86 0.92 0.9 ]\n",
      "F1 score : 0.88\n"
     ]
    }
   ],
   "source": [
    "md_rf.fit(X_train,y_train)\n",
    "print('학습용 모델 평가점수 :', md_rf.score(X_train, y_train))\n",
    "print('테스트용 모델 평가점수 :',md_rf.score(X_test, y_test))\n",
    "print('교차검증 모델 평가점수:',cross_val_score(md_rf, X, y, cv=5))\n",
    "print('교차검증 모델 평가점수(학습용):',cross_val_score(md_rf, X_train, y_train, cv=5))\n",
    "print('교차검증 모델 평가점수(평가용):',cross_val_score(md_rf, X_test, y_test, cv=5))\n",
    "pred = md_rf.predict(X_test)\n",
    "print('F1 score :', f1_score(y_test, pred))"
   ]
  },
  {
   "cell_type": "code",
   "execution_count": 31,
   "metadata": {},
   "outputs": [
    {
     "name": "stdout",
     "output_type": "stream",
     "text": [
      "학습용 모델 평가점수 : 0.6093333333333333\n",
      "테스트용 모델 평가점수 : 0.596\n",
      "교차검증 모델 평가점수: [0.6   0.545 0.6   0.565 0.595]\n",
      "교차검증 모델 평가점수(학습용): [0.60666667 0.4        0.55333333 0.59333333 0.59333333]\n",
      "교차검증 모델 평가점수(평가용): [0.78 0.6  0.6  0.5  0.6 ]\n",
      "F1 score : 0.22900763358778625\n"
     ]
    }
   ],
   "source": [
    "md_logr.fit(X_train,y_train)\n",
    "print('학습용 모델 평가점수 :', md_logr.score(X_train, y_train))\n",
    "print('테스트용 모델 평가점수 :',md_logr.score(X_test, y_test))\n",
    "print('교차검증 모델 평가점수:',cross_val_score(md_logr, X, y, cv=5))\n",
    "print('교차검증 모델 평가점수(학습용):',cross_val_score(md_logr, X_train, y_train, cv=5))\n",
    "print('교차검증 모델 평가점수(평가용):',cross_val_score(md_logr, X_test, y_test, cv=5))\n",
    "pred = md_logr.predict(X_test)\n",
    "print('F1 score :', f1_score(y_test, pred))"
   ]
  },
  {
   "cell_type": "markdown",
   "metadata": {},
   "source": [
    "### 'Age','AnnualSalary','Gender_en'를 사용한 모델\n",
    "- RandomForestClassifier가 결과가 높게 나온다"
   ]
  },
  {
   "cell_type": "code",
   "execution_count": null,
   "metadata": {},
   "outputs": [],
   "source": []
  }
 ],
 "metadata": {
  "kernelspec": {
   "display_name": "Python 3",
   "language": "python",
   "name": "python3"
  },
  "language_info": {
   "codemirror_mode": {
    "name": "ipython",
    "version": 3
   },
   "file_extension": ".py",
   "mimetype": "text/x-python",
   "name": "python",
   "nbconvert_exporter": "python",
   "pygments_lexer": "ipython3",
   "version": "3.8.5"
  }
 },
 "nbformat": 4,
 "nbformat_minor": 4
}
