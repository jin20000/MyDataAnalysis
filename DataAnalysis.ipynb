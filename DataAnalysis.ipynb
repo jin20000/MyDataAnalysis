{
 "cells": [
  {
   "cell_type": "code",
   "execution_count": 2,
   "metadata": {},
   "outputs": [],
   "source": [
    "import matplotlib.pyplot as plt\n",
    "import seaborn as sns\n",
    "import numpy as np\n",
    "import pandas as pd"
   ]
  },
  {
   "cell_type": "code",
   "execution_count": 3,
   "metadata": {},
   "outputs": [],
   "source": [
    "data = pd.read_csv('./car_data.csv')"
   ]
  },
  {
   "cell_type": "code",
   "execution_count": 4,
   "metadata": {},
   "outputs": [
    {
     "data": {
      "text/html": [
       "<div>\n",
       "<style scoped>\n",
       "    .dataframe tbody tr th:only-of-type {\n",
       "        vertical-align: middle;\n",
       "    }\n",
       "\n",
       "    .dataframe tbody tr th {\n",
       "        vertical-align: top;\n",
       "    }\n",
       "\n",
       "    .dataframe thead th {\n",
       "        text-align: right;\n",
       "    }\n",
       "</style>\n",
       "<table border=\"1\" class=\"dataframe\">\n",
       "  <thead>\n",
       "    <tr style=\"text-align: right;\">\n",
       "      <th></th>\n",
       "      <th>User ID</th>\n",
       "      <th>Gender</th>\n",
       "      <th>Age</th>\n",
       "      <th>AnnualSalary</th>\n",
       "      <th>Purchased</th>\n",
       "    </tr>\n",
       "  </thead>\n",
       "  <tbody>\n",
       "    <tr>\n",
       "      <th>0</th>\n",
       "      <td>385</td>\n",
       "      <td>Male</td>\n",
       "      <td>35</td>\n",
       "      <td>20000</td>\n",
       "      <td>0</td>\n",
       "    </tr>\n",
       "    <tr>\n",
       "      <th>1</th>\n",
       "      <td>681</td>\n",
       "      <td>Male</td>\n",
       "      <td>40</td>\n",
       "      <td>43500</td>\n",
       "      <td>0</td>\n",
       "    </tr>\n",
       "    <tr>\n",
       "      <th>2</th>\n",
       "      <td>353</td>\n",
       "      <td>Male</td>\n",
       "      <td>49</td>\n",
       "      <td>74000</td>\n",
       "      <td>0</td>\n",
       "    </tr>\n",
       "    <tr>\n",
       "      <th>3</th>\n",
       "      <td>895</td>\n",
       "      <td>Male</td>\n",
       "      <td>40</td>\n",
       "      <td>107500</td>\n",
       "      <td>1</td>\n",
       "    </tr>\n",
       "    <tr>\n",
       "      <th>4</th>\n",
       "      <td>661</td>\n",
       "      <td>Male</td>\n",
       "      <td>25</td>\n",
       "      <td>79000</td>\n",
       "      <td>0</td>\n",
       "    </tr>\n",
       "  </tbody>\n",
       "</table>\n",
       "</div>"
      ],
      "text/plain": [
       "   User ID Gender  Age  AnnualSalary  Purchased\n",
       "0      385   Male   35         20000          0\n",
       "1      681   Male   40         43500          0\n",
       "2      353   Male   49         74000          0\n",
       "3      895   Male   40        107500          1\n",
       "4      661   Male   25         79000          0"
      ]
     },
     "execution_count": 4,
     "metadata": {},
     "output_type": "execute_result"
    }
   ],
   "source": [
    "data.head()"
   ]
  },
  {
   "cell_type": "code",
   "execution_count": 5,
   "metadata": {},
   "outputs": [
    {
     "name": "stdout",
     "output_type": "stream",
     "text": [
      "(1000, 5)\n"
     ]
    }
   ],
   "source": [
    "print(data.shape)"
   ]
  },
  {
   "cell_type": "code",
   "execution_count": 6,
   "metadata": {},
   "outputs": [
    {
     "name": "stdout",
     "output_type": "stream",
     "text": [
      "<class 'pandas.core.frame.DataFrame'>\n",
      "RangeIndex: 1000 entries, 0 to 999\n",
      "Data columns (total 5 columns):\n",
      " #   Column        Non-Null Count  Dtype \n",
      "---  ------        --------------  ----- \n",
      " 0   User ID       1000 non-null   int64 \n",
      " 1   Gender        1000 non-null   object\n",
      " 2   Age           1000 non-null   int64 \n",
      " 3   AnnualSalary  1000 non-null   int64 \n",
      " 4   Purchased     1000 non-null   int64 \n",
      "dtypes: int64(4), object(1)\n",
      "memory usage: 39.2+ KB\n"
     ]
    }
   ],
   "source": [
    "data.info()"
   ]
  },
  {
   "cell_type": "code",
   "execution_count": 7,
   "metadata": {},
   "outputs": [],
   "source": [
    "dict = { 'Male':0, 'Female':1}"
   ]
  },
  {
   "cell_type": "code",
   "execution_count": 8,
   "metadata": {},
   "outputs": [],
   "source": [
    "data['Gender_en'] = data['Gender'].map(dict).astype('int32')"
   ]
  },
  {
   "cell_type": "code",
   "execution_count": 9,
   "metadata": {},
   "outputs": [
    {
     "name": "stdout",
     "output_type": "stream",
     "text": [
      "<class 'pandas.core.frame.DataFrame'>\n",
      "RangeIndex: 1000 entries, 0 to 999\n",
      "Data columns (total 6 columns):\n",
      " #   Column        Non-Null Count  Dtype \n",
      "---  ------        --------------  ----- \n",
      " 0   User ID       1000 non-null   int64 \n",
      " 1   Gender        1000 non-null   object\n",
      " 2   Age           1000 non-null   int64 \n",
      " 3   AnnualSalary  1000 non-null   int64 \n",
      " 4   Purchased     1000 non-null   int64 \n",
      " 5   Gender_en     1000 non-null   int32 \n",
      "dtypes: int32(1), int64(4), object(1)\n",
      "memory usage: 43.1+ KB\n"
     ]
    }
   ],
   "source": [
    "data.info()"
   ]
  },
  {
   "cell_type": "code",
   "execution_count": 10,
   "metadata": {},
   "outputs": [
    {
     "data": {
      "text/plain": [
       "(array([484.,   0.,   0.,   0.,   0.,   0.,   0.,   0.,   0., 516.]),\n",
       " array([0. , 0.1, 0.2, 0.3, 0.4, 0.5, 0.6, 0.7, 0.8, 0.9, 1. ]),\n",
       " <BarContainer object of 10 artists>)"
      ]
     },
     "execution_count": 10,
     "metadata": {},
     "output_type": "execute_result"
    },
    {
     "data": {
      "image/png": "[encoded data removed]",
      "text/plain": [
       "<Figure size 432x288 with 1 Axes>"
      ]
     },
     "metadata": {
      "needs_background": "light"
     },
     "output_type": "display_data"
    }
   ],
   "source": [
    "# 성별 분포 남성:0, 여성:1\n",
    "plt.hist(data['Gender_en'])"
   ]
  },
  {
   "cell_type": "code",
   "execution_count": 11,
   "metadata": {},
   "outputs": [
    {
     "data": {
      "text/plain": [
       "(array([ 51.,  63., 119.,  91., 207., 133., 138.,  75.,  62.,  61.]),\n",
       " array([18. , 22.5, 27. , 31.5, 36. , 40.5, 45. , 49.5, 54. , 58.5, 63. ]),\n",
       " <BarContainer object of 10 artists>)"
      ]
     },
     "execution_count": 11,
     "metadata": {},
     "output_type": "execute_result"
    },
    {
     "data": {
      "image/png": "[encoded data removed]",
      "text/plain": [
       "<Figure size 432x288 with 1 Axes>"
      ]
     },
     "metadata": {
      "needs_background": "light"
     },
     "output_type": "display_data"
    }
   ],
   "source": [
    "plt.hist(data['Age'])"
   ]
  },
  {
   "cell_type": "code",
   "execution_count": 12,
   "metadata": {},
   "outputs": [
    {
     "data": {
      "text/plain": [
       "(array([598.,   0.,   0.,   0.,   0.,   0.,   0.,   0.,   0., 402.]),\n",
       " array([0. , 0.1, 0.2, 0.3, 0.4, 0.5, 0.6, 0.7, 0.8, 0.9, 1. ]),\n",
       " <BarContainer object of 10 artists>)"
      ]
     },
     "execution_count": 12,
     "metadata": {},
     "output_type": "execute_result"
    },
    {
     "data": {
      "image/png": "[encoded data removed]",
      "text/plain": [
       "<Figure size 432x288 with 1 Axes>"
      ]
     },
     "metadata": {
      "needs_background": "light"
     },
     "output_type": "display_data"
    }
   ],
   "source": [
    "# no:0, yes:1\n",
    "plt.hist(data['Purchased'])"
   ]
  },
  {
   "cell_type": "code",
   "execution_count": 13,
   "metadata": {},
   "outputs": [
    {
     "data": {
      "text/plain": [
       "User ID         0.015911\n",
       "Age             0.616036\n",
       "AnnualSalary    0.364974\n",
       "Purchased       1.000000\n",
       "Gender_en       0.047211\n",
       "Name: Purchased, dtype: float64"
      ]
     },
     "execution_count": 13,
     "metadata": {},
     "output_type": "execute_result"
    }
   ],
   "source": [
    "data.corr()['Purchased']"
   ]
  },
  {
   "cell_type": "code",
   "execution_count": 14,
   "metadata": {},
   "outputs": [],
   "source": [
    "sel = ['Age','AnnualSalary','Gender_en']\n",
    "X = data[sel]\n",
    "y = data['Purchased']"
   ]
  },
  {
   "cell_type": "code",
   "execution_count": 15,
   "metadata": {},
   "outputs": [],
   "source": [
    "from sklearn.model_selection import train_test_split"
   ]
  },
  {
   "cell_type": "code",
   "execution_count": 16,
   "metadata": {},
   "outputs": [],
   "source": [
    "X_train, X_test, y_train, y_test = train_test_split(X,y,\n",
    "                                                    stratify=y,\n",
    "                                                   random_state=0)"
   ]
  },
  {
   "cell_type": "code",
   "execution_count": 18,
   "metadata": {},
   "outputs": [],
   "source": [
    "from sklearn.linear_model import LinearRegression\n",
    "from sklearn.neighbors import KNeighborsClassifier\n",
    "from sklearn.tree import DecisionTreeClassifier\n",
    "from sklearn.svm import SVC\n",
    "from sklearn.ensemble import RandomForestClassifier\n",
    "from sklearn.linear_model import LogisticRegression"
   ]
  },
  {
   "cell_type": "code",
   "execution_count": 34,
   "metadata": {},
   "outputs": [],
   "source": [
    "md_lr = LinearRegression()\n",
    "md_kn = KNeighborsClassifier()\n",
    "md_dt = DecisionTreeClassifier()\n",
    "md_svc = SVC()\n",
    "md_rf =RandomForestClassifier()\n",
    "md_logr =LogisticRegression()"
   ]
  },
  {
   "cell_type": "code",
   "execution_count": 35,
   "metadata": {},
   "outputs": [
    {
     "name": "stdout",
     "output_type": "stream",
     "text": [
      "학습용 모델 평가점수 : 0.4608366540382606\n",
      "테스트용 모델 평가점수 : 0.41882554501022273\n"
     ]
    }
   ],
   "source": [
    "md_lr.fit(X_train,y_train)\n",
    "print('학습용 모델 평가점수 :', md_lr.score(X_train, y_train))\n",
    "print('테스트용 모델 평가점수 :',md_lr.score(X_test, y_test))"
   ]
  },
  {
   "cell_type": "code",
   "execution_count": 36,
   "metadata": {},
   "outputs": [
    {
     "name": "stdout",
     "output_type": "stream",
     "text": [
      "학습용 모델 평가점수 : 0.864\n",
      "테스트용 모델 평가점수 : 0.8\n"
     ]
    }
   ],
   "source": [
    "md_kn.fit(X_train,y_train)\n",
    "print('학습용 모델 평가점수 :', md_kn.score(X_train, y_train))\n",
    "print('테스트용 모델 평가점수 :',md_kn.score(X_test, y_test))"
   ]
  },
  {
   "cell_type": "code",
   "execution_count": 37,
   "metadata": {},
   "outputs": [
    {
     "name": "stdout",
     "output_type": "stream",
     "text": [
      "학습용 모델 평가점수 : 0.996\n",
      "테스트용 모델 평가점수 : 0.884\n"
     ]
    }
   ],
   "source": [
    "md_dt.fit(X_train,y_train)\n",
    "print('학습용 모델 평가점수 :', md_dt.score(X_train, y_train))\n",
    "print('테스트용 모델 평가점수 :',md_dt.score(X_test, y_test))"
   ]
  },
  {
   "cell_type": "code",
   "execution_count": 38,
   "metadata": {},
   "outputs": [
    {
     "name": "stdout",
     "output_type": "stream",
     "text": [
      "학습용 모델 평가점수 : 0.752\n",
      "테스트용 모델 평가점수 : 0.756\n"
     ]
    }
   ],
   "source": [
    "md_svc.fit(X_train,y_train)\n",
    "print('학습용 모델 평가점수 :', md_svc.score(X_train, y_train))\n",
    "print('테스트용 모델 평가점수 :',md_svc.score(X_test, y_test))"
   ]
  },
  {
   "cell_type": "code",
   "execution_count": 39,
   "metadata": {},
   "outputs": [
    {
     "name": "stdout",
     "output_type": "stream",
     "text": [
      "학습용 모델 평가점수 : 0.996\n",
      "테스트용 모델 평가점수 : 0.9\n"
     ]
    }
   ],
   "source": [
    "md_rf.fit(X_train,y_train)\n",
    "print('학습용 모델 평가점수 :', md_rf.score(X_train, y_train))\n",
    "print('테스트용 모델 평가점수 :',md_rf.score(X_test, y_test))"
   ]
  },
  {
   "cell_type": "code",
   "execution_count": 40,
   "metadata": {},
   "outputs": [
    {
     "name": "stdout",
     "output_type": "stream",
     "text": [
      "학습용 모델 평가점수 : 0.6093333333333333\n",
      "테스트용 모델 평가점수 : 0.596\n"
     ]
    }
   ],
   "source": [
    "md_logr.fit(X_train,y_train)\n",
    "print('학습용 모델 평가점수 :', md_logr.score(X_train, y_train))\n",
    "print('테스트용 모델 평가점수 :',md_logr.score(X_test, y_test))"
   ]
  },
  {
   "cell_type": "code",
   "execution_count": 41,
   "metadata": {},
   "outputs": [
    {
     "name": "stdout",
     "output_type": "stream",
     "text": [
      "1 학습용 모델 평가점수 : 0.952\n",
      "1 테스트용 모델 평가점수 : 0.872\n",
      "2 학습용 모델 평가점수 : 0.952\n",
      "2 테스트용 모델 평가점수 : 0.868\n",
      "3 학습용 모델 평가점수 : 0.9786666666666667\n",
      "3 테스트용 모델 평가점수 : 0.896\n",
      "4 학습용 모델 평가점수 : 0.9813333333333333\n",
      "4 테스트용 모델 평가점수 : 0.872\n",
      "5 학습용 모델 평가점수 : 0.9786666666666667\n",
      "5 테스트용 모델 평가점수 : 0.896\n",
      "6 학습용 모델 평가점수 : 0.9866666666666667\n",
      "6 테스트용 모델 평가점수 : 0.892\n",
      "7 학습용 모델 평가점수 : 0.992\n",
      "7 테스트용 모델 평가점수 : 0.872\n",
      "8 학습용 모델 평가점수 : 0.9866666666666667\n",
      "8 테스트용 모델 평가점수 : 0.892\n",
      "9 학습용 모델 평가점수 : 0.992\n",
      "9 테스트용 모델 평가점수 : 0.904\n",
      "10 학습용 모델 평가점수 : 0.984\n",
      "10 테스트용 모델 평가점수 : 0.888\n",
      "11 학습용 모델 평가점수 : 0.9893333333333333\n",
      "11 테스트용 모델 평가점수 : 0.9\n",
      "12 학습용 모델 평가점수 : 0.9933333333333333\n",
      "12 테스트용 모델 평가점수 : 0.908\n",
      "13 학습용 모델 평가점수 : 0.9866666666666667\n",
      "13 테스트용 모델 평가점수 : 0.896\n",
      "14 학습용 모델 평가점수 : 0.9906666666666667\n",
      "14 테스트용 모델 평가점수 : 0.904\n",
      "15 학습용 모델 평가점수 : 0.9906666666666667\n",
      "15 테스트용 모델 평가점수 : 0.908\n",
      "16 학습용 모델 평가점수 : 0.9933333333333333\n",
      "16 테스트용 모델 평가점수 : 0.904\n",
      "17 학습용 모델 평가점수 : 0.9933333333333333\n",
      "17 테스트용 모델 평가점수 : 0.9\n",
      "18 학습용 모델 평가점수 : 0.9906666666666667\n",
      "18 테스트용 모델 평가점수 : 0.904\n",
      "19 학습용 모델 평가점수 : 0.9946666666666667\n",
      "19 테스트용 모델 평가점수 : 0.9\n",
      "20 학습용 모델 평가점수 : 0.9946666666666667\n",
      "20 테스트용 모델 평가점수 : 0.9\n",
      "21 학습용 모델 평가점수 : 0.992\n",
      "21 테스트용 모델 평가점수 : 0.896\n",
      "22 학습용 모델 평가점수 : 0.988\n",
      "22 테스트용 모델 평가점수 : 0.9\n",
      "23 학습용 모델 평가점수 : 0.9946666666666667\n",
      "23 테스트용 모델 평가점수 : 0.904\n",
      "24 학습용 모델 평가점수 : 0.9933333333333333\n",
      "24 테스트용 모델 평가점수 : 0.892\n",
      "25 학습용 모델 평가점수 : 0.996\n",
      "25 테스트용 모델 평가점수 : 0.896\n",
      "26 학습용 모델 평가점수 : 0.9946666666666667\n",
      "26 테스트용 모델 평가점수 : 0.9\n",
      "27 학습용 모델 평가점수 : 0.9933333333333333\n",
      "27 테스트용 모델 평가점수 : 0.9\n",
      "28 학습용 모델 평가점수 : 0.9946666666666667\n",
      "28 테스트용 모델 평가점수 : 0.912\n",
      "29 학습용 모델 평가점수 : 0.992\n",
      "29 테스트용 모델 평가점수 : 0.9\n",
      "30 학습용 모델 평가점수 : 0.996\n",
      "30 테스트용 모델 평가점수 : 0.9\n",
      "31 학습용 모델 평가점수 : 0.996\n",
      "31 테스트용 모델 평가점수 : 0.908\n",
      "32 학습용 모델 평가점수 : 0.9946666666666667\n",
      "32 테스트용 모델 평가점수 : 0.904\n",
      "33 학습용 모델 평가점수 : 0.9946666666666667\n",
      "33 테스트용 모델 평가점수 : 0.908\n",
      "34 학습용 모델 평가점수 : 0.9933333333333333\n",
      "34 테스트용 모델 평가점수 : 0.908\n",
      "35 학습용 모델 평가점수 : 0.9946666666666667\n",
      "35 테스트용 모델 평가점수 : 0.9\n",
      "36 학습용 모델 평가점수 : 0.9946666666666667\n",
      "36 테스트용 모델 평가점수 : 0.904\n",
      "37 학습용 모델 평가점수 : 0.9933333333333333\n",
      "37 테스트용 모델 평가점수 : 0.908\n",
      "38 학습용 모델 평가점수 : 0.9946666666666667\n",
      "38 테스트용 모델 평가점수 : 0.904\n",
      "39 학습용 모델 평가점수 : 0.9946666666666667\n",
      "39 테스트용 모델 평가점수 : 0.904\n",
      "40 학습용 모델 평가점수 : 0.996\n",
      "40 테스트용 모델 평가점수 : 0.904\n",
      "41 학습용 모델 평가점수 : 0.996\n",
      "41 테스트용 모델 평가점수 : 0.904\n",
      "42 학습용 모델 평가점수 : 0.9946666666666667\n",
      "42 테스트용 모델 평가점수 : 0.888\n",
      "43 학습용 모델 평가점수 : 0.996\n",
      "43 테스트용 모델 평가점수 : 0.9\n",
      "44 학습용 모델 평가점수 : 0.996\n",
      "44 테스트용 모델 평가점수 : 0.908\n",
      "45 학습용 모델 평가점수 : 0.9946666666666667\n",
      "45 테스트용 모델 평가점수 : 0.9\n",
      "46 학습용 모델 평가점수 : 0.9946666666666667\n",
      "46 테스트용 모델 평가점수 : 0.9\n",
      "47 학습용 모델 평가점수 : 0.996\n",
      "47 테스트용 모델 평가점수 : 0.908\n",
      "48 학습용 모델 평가점수 : 0.996\n",
      "48 테스트용 모델 평가점수 : 0.896\n",
      "49 학습용 모델 평가점수 : 0.996\n",
      "49 테스트용 모델 평가점수 : 0.904\n"
     ]
    }
   ],
   "source": [
    "for i in range(1,50,1):\n",
    "    md_rf =RandomForestClassifier(n_estimators=i)\n",
    "    md_rf.fit(X_train,y_train)\n",
    "    print(i,'학습용 모델 평가점수 :', md_rf.score(X_train, y_train))\n",
    "    print(i,'테스트용 모델 평가점수 :',md_rf.score(X_test, y_test))\n",
    "# n_estimatior =13일때 성능이 좋음"
   ]
  },
  {
   "cell_type": "code",
   "execution_count": null,
   "metadata": {},
   "outputs": [],
   "source": []
  }
 ],
 "metadata": {
  "kernelspec": {
   "display_name": "Python 3",
   "language": "python",
   "name": "python3"
  },
  "language_info": {
   "codemirror_mode": {
    "name": "ipython",
    "version": 3
   },
   "file_extension": ".py",
   "mimetype": "text/x-python",
   "name": "python",
   "nbconvert_exporter": "python",
   "pygments_lexer": "ipython3",
   "version": "3.8.5"
  }
 },
 "nbformat": 4,
 "nbformat_minor": 4
}
